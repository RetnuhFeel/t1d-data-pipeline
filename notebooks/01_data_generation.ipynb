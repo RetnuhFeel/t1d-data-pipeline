# Jupyter Cell 1: Imports & Setup
import pandas as pd
import numpy as np
from datetime import datetime, timedelta
import matplotlib.pyplot as plt

SUBJECT_ID = "001"
CGM_INTERVAL_MIN = 5
NUM_DAYS = 3
START_TIME = datetime(2025, 1, 1, 6)

# Jupyter Cell 2: Generate Synthetic CGM
timestamps = [START_TIME + timedelta(minutes=i * CGM_INTERVAL_MIN) for i in range((24 * 60 // CGM_INTERVAL_MIN) * NUM_DAYS)]
glucose = np.random.normal(loc=120, scale=30, size=len(timestamps)).clip(40, 400)

cgm_df = pd.DataFrame({
    "timestamp": timestamps,
    "glucose_mgdl": glucose
})

cgm_df.to_csv(f"../data/processed/{SUBJECT_ID}_cgm_processed.csv", index=False)

# Jupyter Cell 3: Plot Glucose
cgm_df.plot(x="timestamp", y="glucose_mgdl", title="Synthetic CGM Data", figsize=(12, 4))
plt.axhline(70, color="red", linestyle="--", alpha=0.5)
plt.axhline(180, color="green", linestyle="--", alpha=0.5)
plt.show()
